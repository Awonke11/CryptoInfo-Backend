{
  "cells": [
    {
      "cell_type": "markdown",
      "metadata": {
        "id": "view-in-github",
        "colab_type": "text"
      },
      "source": [
        "<a href=\"https://colab.research.google.com/github/Awonke11/CryptoInfo-Backend/blob/master/Untitled3.ipynb\" target=\"_parent\"><img src=\"https://colab.research.google.com/assets/colab-badge.svg\" alt=\"Open In Colab\"/></a>"
      ]
    },
    {
      "cell_type": "code",
      "source": [
        "!pip install pandas\n",
        "import pandas as pd\n"
      ],
      "metadata": {
        "id": "mkF7aGsbwnYS"
      },
      "execution_count": null,
      "outputs": []
    },
    {
      "cell_type": "code",
      "source": [
        "df=pd.read_csv('/content/drive/MyDrive/crypto-markets.csv')"
      ],
      "metadata": {
        "id": "lh9A0eA2zN9o"
      },
      "execution_count": null,
      "outputs": []
    },
    {
      "cell_type": "code",
      "source": [
        "df.describe\n"
      ],
      "metadata": {
        "id": "yzMaDfikznwo"
      },
      "execution_count": null,
      "outputs": []
    },
    {
      "cell_type": "code",
      "source": [
        "print(df)"
      ],
      "metadata": {
        "id": "I53Vs6C4zqWG"
      },
      "execution_count": null,
      "outputs": []
    },
    {
      "cell_type": "code",
      "source": [
        "df.head"
      ],
      "metadata": {
        "id": "-hKEBYBozvjE"
      },
      "execution_count": null,
      "outputs": []
    },
    {
      "cell_type": "code",
      "source": [
        "df.columns"
      ],
      "metadata": {
        "id": "FsORRFx3z3FN"
      },
      "execution_count": null,
      "outputs": []
    },
    {
      "cell_type": "code",
      "source": [
        "!pip install scikit_learn"
      ],
      "metadata": {
        "id": "cxvMrKfY0dLb"
      },
      "execution_count": null,
      "outputs": []
    },
    {
      "cell_type": "code",
      "source": [
        "from sklearn.model_selection import train_test_split\n",
        "from sklearn.linear_model import LinearRegression\n",
        "from sklearn.metrics import mean_squared_error\n"
      ],
      "metadata": {
        "id": "XW3iVcNK07Rp"
      },
      "execution_count": null,
      "outputs": []
    },
    {
      "cell_type": "code",
      "source": [
        "# Define features and target variable\n",
        "features = ['open', 'high', 'low', 'volume', 'market', 'close_ratio', 'spread']\n",
        "target = 'close'\n",
        "\n",
        "X = df[features]\n",
        "y = df[target]\n",
        "\n",
        "# Split data into training and testing sets\n",
        "X_train, X_test, y_train, y_test = train_test_split(X, y, test_size=0.2, shuffle=False)\n",
        "\n",
        "# Initialize and train the linear regression model\n",
        "model = LinearRegression()\n",
        "model.fit(X_train, y_train)\n",
        "\n",
        "# Make predictions on the test set\n",
        "predictions = model.predict(X_test)\n",
        "\n",
        "# Evaluate the model\n",
        "mse = mean_squared_error(y_test, predictions)\n",
        "print(f'Mean Squared Error: {mse}')\n",
        "\n",
        "\n",
        "\n",
        "\n",
        "\n",
        "\n"
      ],
      "metadata": {
        "id": "Wr0e3uap0_U3"
      },
      "execution_count": null,
      "outputs": []
    },
    {
      "cell_type": "code",
      "source": [
        "!pip install pycaret"
      ],
      "metadata": {
        "id": "rGgOL83K1SOK"
      },
      "execution_count": null,
      "outputs": []
    },
    {
      "cell_type": "code",
      "source": [
        "from pycaret.regression import *\n",
        "exp_reg = setup(df, target='close', session_id=123)"
      ],
      "metadata": {
        "id": "B3CS_wjJ1Uwj"
      },
      "execution_count": null,
      "outputs": []
    },
    {
      "cell_type": "code",
      "source": [
        "best_model = compare_models()"
      ],
      "metadata": {
        "id": "gMiUBnQk1ZDR"
      },
      "execution_count": null,
      "outputs": []
    },
    {
      "cell_type": "code",
      "source": [
        "lr = create_model('lr')\n",
        "tuned_lr = tune_model(lr)\n",
        "evaluate_model(tuned_lr)\n",
        "predictions = predict_model(tuned_lr, df=new_data)"
      ],
      "metadata": {
        "id": "8kUL31GL1nzi"
      },
      "execution_count": null,
      "outputs": []
    },
    {
      "cell_type": "code",
      "source": [
        "final_model = finalize_model(tuned_lr)"
      ],
      "metadata": {
        "id": "RTN0MQWU1vjb"
      },
      "execution_count": null,
      "outputs": []
    },
    {
      "cell_type": "code",
      "source": [
        "plot_model(tuned_lr, plot='residuals')"
      ],
      "metadata": {
        "id": "pknxhJcq18Hw"
      },
      "execution_count": null,
      "outputs": []
    },
    {
      "cell_type": "code",
      "source": [
        "interpret_model(tuned_lr)"
      ],
      "metadata": {
        "id": "ksty9e4G1-g_"
      },
      "execution_count": null,
      "outputs": []
    },
    {
      "cell_type": "code",
      "source": [
        "plot_model(tuned_lr, plot='feature')"
      ],
      "metadata": {
        "id": "VDFC8p9M2BG8"
      },
      "execution_count": null,
      "outputs": []
    },
    {
      "cell_type": "code",
      "source": [
        "plot_model(tuned_lr, plot='learning')"
      ],
      "metadata": {
        "id": "CCUH_tD62Bta"
      },
      "execution_count": null,
      "outputs": []
    },
    {
      "cell_type": "code",
      "source": [
        "import numpy as np\n",
        "\n",
        "from sklearn.preprocessing import MinMaxScaler\n",
        "from sklearn.metrics import mean_squared_error\n",
        "from tensorflow.keras.models import Sequential\n",
        "from tensorflow.keras.layers import LSTM, Dense\n",
        "import matplotlib.pyplot as plt\n",
        "\n",
        "# Load and preprocess cryptocurrency market data\n",
        "df = pd.read_csv('/content/drive/MyDrive/crypto-markets.csv')\n",
        "\n",
        "# Extract the 'close' prices\n",
        "prices = df['close'].values.reshape(-1, 1)\n",
        "\n",
        "# Normalize data to the range [0, 1]\n",
        "scaler = MinMaxScaler()\n",
        "prices_normalized = scaler.fit_transform(prices)\n",
        "\n",
        "# Create sequences for training\n",
        "sequence_length = 10  # Number of historical prices used for prediction\n",
        "X = []\n",
        "y = []\n",
        "for i in range(len(prices_normalized) - sequence_length):\n",
        "    X.append(prices_normalized[i:i+sequence_length])\n",
        "    y.append(prices_normalized[i+sequence_length])\n",
        "X = np.array(X)\n",
        "y = np.array(y)\n",
        "\n",
        "# Split data into training and testing sets\n",
        "split_ratio = 0.8\n",
        "split_index = int(len(X) * split_ratio)\n",
        "X_train, X_test = X[:split_index], X[split_index:]\n",
        "y_train, y_test = y[:split_index], y[split_index:]\n",
        "\n",
        "# Build and train the LSTM model\n",
        "model = Sequential()\n",
        "model.add(LSTM(units=50, return_sequences=True, input_shape=(X_train.shape[1], 1)))\n",
        "model.add(LSTM(units=50))\n",
        "model.add(Dense(units=1))\n",
        "model.compile(optimizer='adam', loss='mean_squared_error')\n",
        "model.fit(X_train, y_train, epochs=50, batch_size=32)\n",
        "\n",
        "# Make predictions\n",
        "predicted_prices_normalized = model.predict(X_test)\n",
        "predicted_prices = scaler.inverse_transform(predicted_prices_normalized)\n",
        "\n",
        "# Calculate mean squared error\n",
        "mse = mean_squared_error(y_test, predicted_prices_normalized)\n",
        "print(f'Mean Squared Error: {mse}')\n",
        "\n",
        "# Plot actual vs. predicted prices\n",
        "plt.figure(figsize=(12, 6))\n",
        "plt.plot(scaler.inverse_transform(y_test), label='Actual Prices')\n",
        "plt.plot(predicted_prices, label='Predicted Prices')\n",
        "plt.legend()\n",
        "plt.title('Cryptocurrency Price Prediction')\n",
        "plt.xlabel('Time')\n",
        "plt.ylabel('Price')\n",
        "plt.show()\n",
        "\n",
        "\n",
        "\n",
        "\n",
        "\n"
      ],
      "metadata": {
        "colab": {
          "base_uri": "https://localhost:8080/"
        },
        "id": "xY-704082cIM",
        "outputId": "3da88dd1-95cc-4590-b52b-dcafa94d1ca2"
      },
      "execution_count": null,
      "outputs": [
        {
          "output_type": "stream",
          "name": "stdout",
          "text": [
            "16211/23558 [===================>..........] - ETA: 2:04 - loss: 3.7992e-09"
          ]
        }
      ]
    }
  ],
  "metadata": {
    "colab": {
      "provenance": [],
      "mount_file_id": "1xMCWnGMJSA-4jVwamEi2LrxyC74ocKfo",
      "authorship_tag": "ABX9TyOetpcg+OMCRb9MBPSqwi6Z",
      "include_colab_link": true
    },
    "kernelspec": {
      "display_name": "Python 3",
      "name": "python3"
    },
    "language_info": {
      "name": "python"
    }
  },
  "nbformat": 4,
  "nbformat_minor": 0
}